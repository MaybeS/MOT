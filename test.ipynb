{
 "cells": [
  {
   "cell_type": "code",
   "execution_count": 60,
   "metadata": {},
   "outputs": [],
   "source": [
    "from lib.parser import parse\n",
    "from lib.generator import SampleGenerator\n",
    "from lib.generator import gen_samples\n",
    "from lib.utils import RegionExtractor"
   ]
  },
  {
   "cell_type": "code",
   "execution_count": 2,
   "metadata": {},
   "outputs": [],
   "source": [
    "import numpy as np"
   ]
  },
  {
   "cell_type": "code",
   "execution_count": 3,
   "metadata": {},
   "outputs": [],
   "source": [
    "data_dir = 'C:\\\\Users\\\\maybe\\\\Downloads\\\\MOT17\\\\train\\\\MOT17-02-DPM\\\\'"
   ]
  },
  {
   "cell_type": "code",
   "execution_count": 4,
   "metadata": {},
   "outputs": [],
   "source": [
    "f = parse(data_dir)"
   ]
  },
  {
   "cell_type": "code",
   "execution_count": 22,
   "metadata": {},
   "outputs": [],
   "source": [
    "imgen = f['images']\n",
    "images = [next(imgen) for _ in range(100)]\n",
    "values = f['objects'][1]"
   ]
  },
  {
   "cell_type": "code",
   "execution_count": 33,
   "metadata": {},
   "outputs": [],
   "source": [
    "image = images[0]\n",
    "init = np.array(values[sorted(values.keys())[0]][:4])"
   ]
  },
  {
   "cell_type": "code",
   "execution_count": 61,
   "metadata": {},
   "outputs": [],
   "source": [
    "generator = SampleGenerator('uniform', image.size, 0.3, 1.5, 1.1)"
   ]
  },
  {
   "cell_type": "code",
   "execution_count": 62,
   "metadata": {
    "scrolled": true
   },
   "outputs": [],
   "source": [
    "examples = gen_samples(generator, init, 1000, [.6, 1], [1, 2])"
   ]
  },
  {
   "cell_type": "code",
   "execution_count": 63,
   "metadata": {},
   "outputs": [],
   "source": [
    "extractor = RegionExtractor(image, examples, 107, 16, 256)"
   ]
  },
  {
   "cell_type": "code",
   "execution_count": 67,
   "metadata": {},
   "outputs": [
    {
     "name": "stderr",
     "output_type": "stream",
     "text": [
      "c:\\utility\\python35\\lib\\site-packages\\scipy\\misc\\pilutil.py:482: FutureWarning: Conversion of the second argument of issubdtype from `int` to `np.signedinteger` is deprecated. In future, it will be treated as `np.int32 == np.dtype(int).type`.\n",
      "  if issubdtype(ts, int):\n",
      "c:\\utility\\python35\\lib\\site-packages\\scipy\\misc\\pilutil.py:485: FutureWarning: Conversion of the second argument of issubdtype from `float` to `np.floating` is deprecated. In future, it will be treated as `np.float64 == np.dtype(float).type`.\n",
      "  elif issubdtype(type(size), float):\n"
     ]
    }
   ],
   "source": [
    "regions = [reg.data.numpy() for i, reg in enumerate(extractor)]"
   ]
  },
  {
   "cell_type": "code",
   "execution_count": 90,
   "metadata": {},
   "outputs": [],
   "source": [
    "samples = generator(init, 1000 * 2)"
   ]
  },
  {
   "cell_type": "code",
   "execution_count": 91,
   "metadata": {
    "scrolled": true
   },
   "outputs": [
    {
     "data": {
      "text/plain": [
       "array([[906.1967  , 482.05243 , 107.80308 , 106.241234],\n",
       "       [933.23804 , 476.83295 ,  70.31263 ,  89.3666  ],\n",
       "       [904.38153 , 487.94513 , 111.83868 , 132.99033 ],\n",
       "       ...,\n",
       "       [893.8917  , 483.12146 , 111.60651 , 148.50719 ],\n",
       "       [904.45703 , 476.79358 , 112.74905 , 112.85793 ],\n",
       "       [884.56995 , 507.90018 , 106.581116, 101.86005 ]], dtype=float32)"
      ]
     },
     "execution_count": 91,
     "metadata": {},
     "output_type": "execute_result"
    }
   ],
   "source": [
    "samples"
   ]
  },
  {
   "cell_type": "code",
   "execution_count": 94,
   "metadata": {},
   "outputs": [],
   "source": [
    "idx = np.ones(len(samples), dtype=bool)"
   ]
  },
  {
   "cell_type": "code",
   "execution_count": 97,
   "metadata": {},
   "outputs": [],
   "source": [
    "from lib.utils import overlap_ratio"
   ]
  },
  {
   "cell_type": "code",
   "execution_count": 98,
   "metadata": {},
   "outputs": [],
   "source": [
    "r = overlap_ratio(samples, init)"
   ]
  },
  {
   "cell_type": "code",
   "execution_count": 102,
   "metadata": {},
   "outputs": [
    {
     "data": {
      "text/plain": [
       "array([[107.80308 , 106.241234],\n",
       "       [ 70.31263 ,  89.3666  ],\n",
       "       [111.83868 , 132.99033 ],\n",
       "       ...,\n",
       "       [111.60651 , 148.50719 ],\n",
       "       [112.74905 , 112.85793 ],\n",
       "       [106.581116, 101.86005 ]], dtype=float32)"
      ]
     },
     "execution_count": 102,
     "metadata": {},
     "output_type": "execute_result"
    }
   ],
   "source": [
    "samples[:, 2:]"
   ]
  },
  {
   "cell_type": "code",
   "execution_count": 103,
   "metadata": {},
   "outputs": [],
   "source": [
    "idx *= (r >= .6) * (r <= 1.)"
   ]
  },
  {
   "cell_type": "code",
   "execution_count": null,
   "metadata": {},
   "outputs": [],
   "source": [
    "np.prod()"
   ]
  }
 ],
 "metadata": {
  "kernelspec": {
   "display_name": "Python 3",
   "language": "python",
   "name": "python3"
  },
  "language_info": {
   "codemirror_mode": {
    "name": "ipython",
    "version": 3
   },
   "file_extension": ".py",
   "mimetype": "text/x-python",
   "name": "python",
   "nbconvert_exporter": "python",
   "pygments_lexer": "ipython3",
   "version": "3.5.3"
  }
 },
 "nbformat": 4,
 "nbformat_minor": 2
}
