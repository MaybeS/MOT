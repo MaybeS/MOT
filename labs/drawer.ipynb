{
 "cells": [
  {
   "cell_type": "code",
   "execution_count": 32,
   "metadata": {},
   "outputs": [],
   "source": [
    "from pathlib import Path\n",
    "from random import randint"
   ]
  },
  {
   "cell_type": "code",
   "execution_count": 6,
   "metadata": {},
   "outputs": [],
   "source": [
    "import numpy as np\n",
    "import pandas as pd\n",
    "import cv2"
   ]
  },
  {
   "cell_type": "code",
   "execution_count": 35,
   "metadata": {},
   "outputs": [],
   "source": [
    "colors = [(randint(0, 255), randint(0, 255), randint(0, 255)) for _ in range(10000)]"
   ]
  },
  {
   "cell_type": "code",
   "execution_count": 52,
   "metadata": {},
   "outputs": [],
   "source": [
    "def draw(image, rects, ids=None):\n",
    "    img = cv2.imread(image)\n",
    "    \n",
    "    if ids is None:\n",
    "        ids = np.zeros(np.size(rects, 0), dtype=np.int)\n",
    "    \n",
    "    for (x, y, w, h), color in zip(rects, map(lambda i: colors[int(i) % len(colors)], ids)):\n",
    "        cv2.rectangle(img, (int(x), int(y)), (int(x+w), int(y+h)), color, 3)\n",
    "    \n",
    "    return img"
   ]
  },
  {
   "cell_type": "code",
   "execution_count": 53,
   "metadata": {},
   "outputs": [],
   "source": [
    "def main(results, img_dir='/home/cvlab/datasets/MOT17/train', dest='../showcase'):\n",
    "    img_dir = Path(img_dir)\n",
    "    dest = Path(dest)\n",
    "    \n",
    "    for result in map(Path, results):\n",
    "        df = pd.read_csv(str(result), header=None).values\n",
    "        \n",
    "        images = img_dir.joinpath(result.stem).joinpath('img1').glob('*')\n",
    "        \n",
    "        dest.joinpath(result.stem).mkdir(parents=True, exist_ok=True)\n",
    "        \n",
    "        for idx, image in enumerate(images):\n",
    "            sub = df[df[:, 0] == idx]\n",
    "            \n",
    "            img = draw(str(image), sub[:, 2:6], sub[:, 1])\n",
    "            \n",
    "            cv2.imwrite(str(dest.joinpath(result.stem).joinpath(image.name)), img)\n"
   ]
  },
  {
   "cell_type": "code",
   "execution_count": 54,
   "metadata": {},
   "outputs": [],
   "source": [
    "main(['/home/cvlab/workspace/MOT/results/MOT17-02-DPM.txt'])"
   ]
  },
  {
   "cell_type": "code",
   "execution_count": null,
   "metadata": {},
   "outputs": [],
   "source": []
  }
 ],
 "metadata": {
  "kernelspec": {
   "display_name": "Python 3",
   "language": "python",
   "name": "python3"
  },
  "language_info": {
   "codemirror_mode": {
    "name": "ipython",
    "version": 3
   },
   "file_extension": ".py",
   "mimetype": "text/x-python",
   "name": "python",
   "nbconvert_exporter": "python",
   "pygments_lexer": "ipython3",
   "version": "3.6.8"
  }
 },
 "nbformat": 4,
 "nbformat_minor": 2
}
