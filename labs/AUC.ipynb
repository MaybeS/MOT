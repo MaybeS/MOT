{
 "cells": [
  {
   "cell_type": "code",
   "execution_count": null,
   "metadata": {
    "collapsed": true
   },
   "outputs": [],
   "source": [
    "import matplotlib.pyplot as plt\n",
    "import re\n",
    "import numpy as np\n",
    "import cv2\n",
    "import os"
   ]
  },
  {
   "cell_type": "code",
   "execution_count": null,
   "metadata": {
    "collapsed": true
   },
   "outputs": [],
   "source": [
    "step = 0.001"
   ]
  },
  {
   "cell_type": "code",
   "execution_count": null,
   "metadata": {
    "collapsed": true
   },
   "outputs": [],
   "source": [
    "x = np.arange(0 + step, 1 + step, step)"
   ]
  },
  {
   "cell_type": "code",
   "execution_count": null,
   "metadata": {
    "collapsed": true
   },
   "outputs": [],
   "source": [
    "size = lambda obj: obj[2] * obj[3]"
   ]
  },
  {
   "cell_type": "code",
   "execution_count": null,
   "metadata": {
    "collapsed": true
   },
   "outputs": [],
   "source": [
    "xclash = lambda tar, obj: 0 if tar[0] + tar[2] < obj[0] or obj[0] + obj[2] < tar[0] else max(tar[0] + tar[2] - obj[0], obj[0] + obj[2] - tar[0])"
   ]
  },
  {
   "cell_type": "code",
   "execution_count": null,
   "metadata": {
    "collapsed": true
   },
   "outputs": [],
   "source": [
    "yclash = lambda tar, obj: 0 if tar[1] + tar[3] < obj[1] or obj[1] + obj[3] < tar[1] else max(tar[1] + tar[3] - obj[1], obj[3] + obj[3] - tar[1])"
   ]
  },
  {
   "cell_type": "code",
   "execution_count": null,
   "metadata": {
    "collapsed": true
   },
   "outputs": [],
   "source": [
    "clash = lambda tar, obj: xclash(tar, obj) * yclash(tar, obj) / size(obj)"
   ]
  },
  {
   "cell_type": "code",
   "execution_count": null,
   "metadata": {
    "collapsed": true
   },
   "outputs": [],
   "source": [
    "overlap = lambda tar, obj, rat: clash(tar, obj) >= rat"
   ]
  },
  {
   "cell_type": "code",
   "execution_count": null,
   "metadata": {
    "collapsed": true
   },
   "outputs": [],
   "source": [
    "performonce = lambda t, o: sum([overlap(t, o, r) for r in x]) / len(x)"
   ]
  },
  {
   "cell_type": "code",
   "execution_count": null,
   "metadata": {
    "collapsed": true
   },
   "outputs": [],
   "source": [
    "performance = lambda tar, obj, rat: [sum([overlap(t, o, r) for t, o in zip(tar, obj)])/len(tar) for r in rat]"
   ]
  },
  {
   "cell_type": "code",
   "execution_count": null,
   "metadata": {
    "collapsed": true
   },
   "outputs": [],
   "source": [
    "perframe = lambda tar, obj: [sum([overlap(t, o, r) for r in x]) / len(x) for t, o in zip(tar, obj)]"
   ]
  },
  {
   "cell_type": "code",
   "execution_count": null,
   "metadata": {
    "collapsed": true
   },
   "outputs": [],
   "source": [
    "scale = lambda box, ratio=0.01: [box[0] - box[2] * ratio, box[1] - box[3] * ratio, box[2] + box[2] * ratio * 2, box[3] + box[3] * ratio * 2]"
   ]
  },
  {
   "cell_type": "markdown",
   "metadata": {},
   "source": [
    "## test py-MDNet"
   ]
  },
  {
   "cell_type": "code",
   "execution_count": null,
   "metadata": {
    "collapsed": true
   },
   "outputs": [],
   "source": [
    "def parse(line):\n",
    "    return list(map(int, re.split(';|,| |\\t', line.replace('\\n', ''))))"
   ]
  },
  {
   "cell_type": "code",
   "execution_count": null,
   "metadata": {
    "scrolled": false
   },
   "outputs": [],
   "source": [
    "total = 0\n",
    "for d in [\n",
    "    'Basketball',\n",
    "    'Bird1',\n",
    "    'Bolt',\n",
    "    'Car1',\n",
    "    'Diving',\n",
    "    'Football',\n",
    "    'Ironman',\n",
    "    'Matrix',\n",
    "    'Soccer',\n",
    "    'Surfer']:\n",
    "    with open('../train/' + d + '/bounding_rect.txt') as f:\n",
    "        results = list(map(lambda x: list(map(float, x.split(','))), f.readlines()))\n",
    "    with open('../train/' + d + '/groundtruth_rect.txt') as f:\n",
    "        truths = list(map(parse, f.readlines()))\n",
    "    truths = truths[1:]\n",
    "#     results = list(map(scale, results))\n",
    "    perf = performance(results, truths, x)\n",
    "    print ('AUC of {}'.format(d), sum(perf) / len(x))\n",
    "    total += sum(perf) / len(x)\n",
    "    plt.plot(x, perf);plt.ylim(0, 1);plt.show()\n",
    "    results = results[:len(truths)]\n",
    "    truths = truths[:len(results)]\n",
    "    frame = perframe(results, truths)\n",
    "    plt.plot(range(len(truths)), frame); plt.show()\n",
    "print (total / 10)"
   ]
  },
  {
   "cell_type": "markdown",
   "metadata": {
    "collapsed": true
   },
   "source": [
    "## Visual check"
   ]
  },
  {
   "cell_type": "code",
   "execution_count": null,
   "metadata": {
    "collapsed": true
   },
   "outputs": [],
   "source": [
    "data_set = 'Basketball'"
   ]
  },
  {
   "cell_type": "code",
   "execution_count": null,
   "metadata": {
    "collapsed": true
   },
   "outputs": [],
   "source": [
    "with open('../bbox_' + data_set + '.txt') as f:\n",
    "    results = list(map(lambda x: list(map(float, x.split(','))), f.readlines()))\n",
    "with open('../train/' + data_set + '/groundtruth_rect.txt') as f:\n",
    "    truths = list(map(lambda x: list(map(float, x.split(','))), f.readlines()))"
   ]
  },
  {
   "cell_type": "code",
   "execution_count": null,
   "metadata": {
    "collapsed": true,
    "scrolled": false
   },
   "outputs": [],
   "source": [
    "begin = 640\n",
    "for file, truth, result in zip(sorted(os.listdir('../train/{}/img'.format(data_set)))[begin:], truths[begin:], results[begin:]):\n",
    "    img = cv2.imread('../train/{}/img/{}'.format(data_set, file))\n",
    "    tx, ty, tw, th = map(int, truth)\n",
    "    rx, ry, rw, rh = map(int, scale(result))\n",
    "    img = cv2.rectangle(img, (tx, ty), (tx + tw, ty + th), (255, 121, 0), 3)\n",
    "    img = cv2.rectangle(img, (rx, ry), (rx + rw, ry + rh), (64, 255, 64), 3)\n",
    "    print (file, truth, result, performonce(truth, result))\n",
    "    plt.imshow(img); plt.show()"
   ]
  },
  {
   "cell_type": "code",
   "execution_count": null,
   "metadata": {
    "collapsed": true
   },
   "outputs": [],
   "source": []
  },
  {
   "cell_type": "code",
   "execution_count": null,
   "metadata": {
    "collapsed": true
   },
   "outputs": [],
   "source": []
  },
  {
   "cell_type": "code",
   "execution_count": null,
   "metadata": {
    "collapsed": true
   },
   "outputs": [],
   "source": []
  },
  {
   "cell_type": "code",
   "execution_count": null,
   "metadata": {
    "collapsed": true
   },
   "outputs": [],
   "source": []
  },
  {
   "cell_type": "code",
   "execution_count": null,
   "metadata": {
    "collapsed": true
   },
   "outputs": [],
   "source": []
  },
  {
   "cell_type": "code",
   "execution_count": null,
   "metadata": {
    "collapsed": true
   },
   "outputs": [],
   "source": []
  }
 ],
 "metadata": {
  "kernelspec": {
   "display_name": "Python 3",
   "language": "python",
   "name": "python3"
  },
  "language_info": {
   "codemirror_mode": {
    "name": "ipython",
    "version": 3
   },
   "file_extension": ".py",
   "mimetype": "text/x-python",
   "name": "python",
   "nbconvert_exporter": "python",
   "pygments_lexer": "ipython3",
   "version": "3.5.2"
  }
 },
 "nbformat": 4,
 "nbformat_minor": 2
}
