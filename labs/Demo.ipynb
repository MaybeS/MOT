{
 "cells": [
  {
   "cell_type": "code",
   "execution_count": 1,
   "metadata": {},
   "outputs": [],
   "source": [
    "import pickle\n",
    "import numpy as np"
   ]
  },
  {
   "cell_type": "code",
   "execution_count": 2,
   "metadata": {},
   "outputs": [],
   "source": [
    "data_path = '/home/maybe/MOT17/train/MOT17-02-DPM/'"
   ]
  },
  {
   "cell_type": "code",
   "execution_count": 3,
   "metadata": {},
   "outputs": [],
   "source": [
    "from os import path\n",
    "from glob import glob\n",
    "from collections import defaultdict"
   ]
  },
  {
   "cell_type": "code",
   "execution_count": 4,
   "metadata": {},
   "outputs": [],
   "source": [
    "seqs = defaultdict(dict)\n",
    "objs = defaultdict(dict)\n",
    "with open(path.join(data_path, 'gt', 'gt.txt')) as f:\n",
    "    for seq, obj, *data in [line.strip().split(',') for line in f.readlines()]:\n",
    "        if int(obj) < 16:\n",
    "            seqs[int(seq)][int(obj)] = data\n",
    "            objs[int(obj)][int(seq)] = data"
   ]
  },
  {
   "cell_type": "code",
   "execution_count": 5,
   "metadata": {},
   "outputs": [],
   "source": [
    "pb = defaultdict(dict)\n",
    "for file in glob('../results_*.p'):\n",
    "    obj_id = int(file.split('_')[1].split('.')[0])\n",
    "    with open(file, 'rb') as f:\n",
    "        r = pickle.load(f)\n",
    "    pb[obj_id] = r"
   ]
  },
  {
   "cell_type": "code",
   "execution_count": 6,
   "metadata": {},
   "outputs": [],
   "source": [
    "rb = defaultdict(dict)\n",
    "for obj, values in objs.items():\n",
    "    for v, d in values.items():\n",
    "        if v < len(pb[obj]):\n",
    "            rb[v][obj] = pb[obj][v]"
   ]
  },
  {
   "cell_type": "markdown",
   "metadata": {},
   "source": [
    "## Metrics"
   ]
  },
  {
   "cell_type": "code",
   "execution_count": 7,
   "metadata": {},
   "outputs": [],
   "source": [
    "def location(rect1, rect2):\n",
    "    cx1, cy1 = rect1[0] + rect1[2]/2, rect1[1] + rect1[3]/2\n",
    "    cx2, cy2 = rect2[0] + rect2[2]/2, rect2[1] + rect2[3]/2\n",
    "    return ((cy2-cy1)**2 + (cx2-cx1)**2)**.5"
   ]
  },
  {
   "cell_type": "code",
   "execution_count": 8,
   "metadata": {},
   "outputs": [],
   "source": [
    "def overlap(rect1, rect2):\n",
    "    left = np.maximum(np.maximum(0, rect1[0]), np.maximum(0, rect2[0]))\n",
    "    right = np.minimum(rect1[0] + rect1[2], rect2[0] + rect2[2])\n",
    "    top = np.maximum(np.maximum(0, rect1[1]), np.maximum(0, rect2[1]))\n",
    "    bottom = np.minimum(rect1[1] + rect1[3], rect2[1] + rect2[3])\n",
    "    intersect = np.maximum(0, right - left) * np.maximum(0, bottom - top)\n",
    "    intersect = 0 if intersect < 0 else intersect\n",
    "    union = rect1[2] * rect1[3] + rect2[2] * rect2[3] - intersect\n",
    "    iou = np.clip(intersect / union, 0, 1)\n",
    "    return iou"
   ]
  },
  {
   "cell_type": "code",
   "execution_count": 9,
   "metadata": {},
   "outputs": [],
   "source": [
    "import matplotlib.pyplot as plt"
   ]
  },
  {
   "cell_type": "code",
   "execution_count": 10,
   "metadata": {},
   "outputs": [],
   "source": [
    "for seq, oo in rb.items():\n",
    "    if not seq: continue"
   ]
  },
  {
   "cell_type": "code",
   "execution_count": 11,
   "metadata": {},
   "outputs": [],
   "source": [
    "iou = np.asarray([overlap(np.array(list(map(float, gbox[:4]))), bbox[:4]) for seq, oo in rb.items() for gbox, bbox in zip(seqs[seq].values(), oo.values())])"
   ]
  },
  {
   "cell_type": "code",
   "execution_count": 12,
   "metadata": {},
   "outputs": [],
   "source": [
    "x_iou = np.arange(0, 1.01, .01)"
   ]
  },
  {
   "cell_type": "code",
   "execution_count": 13,
   "metadata": {},
   "outputs": [],
   "source": [
    "perf_iou = [iou[np.where(iou>=flag)].size / iou.size for flag in x_iou]"
   ]
  },
  {
   "cell_type": "code",
   "execution_count": 14,
   "metadata": {},
   "outputs": [
    {
     "data": {
      "image/png": "[encoded data removed]",
      "text/plain": [
       "<matplotlib.figure.Figure at 0x7f5685f22ac8>"
      ]
     },
     "metadata": {},
     "output_type": "display_data"
    }
   ],
   "source": [
    "plt.plot(x_iou, perf_iou, label='MDNet [%.3f]' % (sum(perf_iou) / len(perf_iou)))\n",
    "plt.legend()\n",
    "plt.show()"
   ]
  },
  {
   "cell_type": "code",
   "execution_count": 15,
   "metadata": {},
   "outputs": [],
   "source": [
    "cle = np.asarray([location(list(map(float, gbox[:4])), bbox[:4]) for seq, oo in rb.items() for gbox, bbox in zip(seqs[seq].values(), oo.values())])"
   ]
  },
  {
   "cell_type": "code",
   "execution_count": 16,
   "metadata": {},
   "outputs": [],
   "source": [
    "x_cle = np.arange(0, 50, .1)"
   ]
  },
  {
   "cell_type": "code",
   "execution_count": 17,
   "metadata": {},
   "outputs": [],
   "source": [
    "perf_cle = [cle[np.where(cle<=flag)].size / cle.size for flag in x_cle]"
   ]
  },
  {
   "cell_type": "code",
   "execution_count": 18,
   "metadata": {},
   "outputs": [
    {
     "data": {
      "image/png": "[encoded data removed]",
      "text/plain": [
       "<matplotlib.figure.Figure at 0x7f5685f22240>"
      ]
     },
     "metadata": {},
     "output_type": "display_data"
    }
   ],
   "source": [
    "plt.plot(x_cle, perf_cle, label='MDNet [%.3f]' % (sum(perf_cle) / len(perf_cle)))\n",
    "plt.legend()\n",
    "plt.show()"
   ]
  },
  {
   "cell_type": "code",
   "execution_count": 19,
   "metadata": {},
   "outputs": [
    {
     "data": {
      "text/plain": [
       "<matplotlib.legend.Legend at 0x7f5683defd68>"
      ]
     },
     "execution_count": 19,
     "metadata": {},
     "output_type": "execute_result"
    },
    {
     "data": {
      "image/png": "[encoded data removed]",
      "text/plain": [
       "<matplotlib.figure.Figure at 0x7f5683e81e10>"
      ]
     },
     "metadata": {},
     "output_type": "display_data"
    }
   ],
   "source": [
    "f, (ax1, ax2) = plt.subplots(1, 2, sharey=True)\n",
    "ax1.plot(x_cle, perf_cle, label='%.3f' % (sum(perf_cle) / len(perf_cle)))\n",
    "ax1.set_title('CLE')\n",
    "ax1.legend()\n",
    "ax2.plot(x_iou, perf_iou, label='%.3f' % (sum(perf_iou) / len(perf_iou)))\n",
    "ax2.set_title('IoU')\n",
    "ax2.legend()"
   ]
  },
  {
   "cell_type": "markdown",
   "metadata": {},
   "source": [
    "## Previews"
   ]
  },
  {
   "cell_type": "code",
   "execution_count": 20,
   "metadata": {},
   "outputs": [],
   "source": [
    "from PIL import Image, ImageDraw\n",
    "from IPython.display import display"
   ]
  },
  {
   "cell_type": "code",
   "execution_count": 21,
   "metadata": {},
   "outputs": [],
   "source": [
    "def rectangle_width(image, x, y, w, h, outline, width=5):\n",
    "    for step in range(width):\n",
    "        image.rectangle(((x+step, y+step), (x+w+step, y+h+step)), outline=outline)"
   ]
  },
  {
   "cell_type": "code",
   "execution_count": 22,
   "metadata": {
    "scrolled": false
   },
   "outputs": [],
   "source": [
    "for seq, oo in rb.items():\n",
    "    if not seq: continue\n",
    "    ig = Image.open(path.join(data_path, 'img1', '%06d.jpg' % (seq)))\n",
    "    dr = ImageDraw.Draw(ig)\n",
    "    for o, value in seqs[seq].items():\n",
    "        x, y, w, h, *_ = map(float, value)\n",
    "#         dr.rectangle(((x, y), (x+w, y+h)), outline=\"red\")\n",
    "#         rectangle_width(dr, x, y, w, h, 'red')\n",
    "    for o, value in oo.items():\n",
    "        x, y, w, h, *_ = map(float, value)\n",
    "#         dr.rectangle(((x, y), (x+w, y+h)), outline=\"blue\")\n",
    "#         rectangle_width(dr, x, y, w, h, 'blue')\n",
    "#     display(ig)"
   ]
  },
  {
   "cell_type": "markdown",
   "metadata": {},
   "source": [
    "## MOTA"
   ]
  },
  {
   "cell_type": "code",
   "execution_count": 36,
   "metadata": {},
   "outputs": [],
   "source": [
    "import json\n",
    "\n",
    "hypotheses = {}\n",
    "groundtruth = {}\n",
    "num = 0"
   ]
  },
  {
   "cell_type": "code",
   "execution_count": 37,
   "metadata": {},
   "outputs": [
    {
     "name": "stdout",
     "output_type": "stream",
     "text": [
      "{\"filename\": \"/home/maybe/MOT/labs/mot17.idx\", \"class\": \"video\", \"frames\": []}\n"
     ]
    }
   ],
   "source": [
    "hypotheses['frames'] = []\n",
    "hypotheses['class'] = \"video\"\n",
    "hypotheses['filename'] = \"/home/maybe/MOT/labs/mot17.idx\"\n",
    "groundtruth['frames'] = []\n",
    "groundtruth['class'] = \"video\"\n",
    "groundtruth['filename'] = \"/home/maybe/MOT/labs/mot17.idx\"\n",
    "print(json.dumps(groundtruth))"
   ]
  },
  {
   "cell_type": "code",
   "execution_count": 38,
   "metadata": {},
   "outputs": [
    {
     "name": "stdout",
     "output_type": "stream",
     "text": [
      "{'num': 0, 'class': 'frame', 'timestamp': 0, 'annotations': [{'y': 465.0232849121094, 'height': 97.31388092041016, 'width': 91.82291412353516, 'x': 920.6925659179688, 'dco': False, 'id': 0}, {'y': 418.0, 'height': 379.0, 'width': 167.0, 'x': 1338.0, 'dco': False, 'id': 1}, {'y': 447.0, 'height': 263.0, 'width': 85.0, 'x': 586.0, 'dco': False, 'id': 2}, {'y': 0.0, 'height': 566.344970703125, 'width': 329.2247619628906, 'x': 1589.7752685546875, 'dco': False, 'id': 3}, {'y': 439.8048400878906, 'height': 89.3607406616211, 'width': 33.133758544921875, 'x': 1157.5791015625, 'dco': False, 'id': 4}, {'y': 438.739013671875, 'height': 118.1908187866211, 'width': 34.05498504638672, 'x': 1311.1939697265625, 'dco': False, 'id': 5}, {'y': 431.0, 'height': 336.0, 'width': 184.0, 'x': 1416.0, 'dco': False, 'id': 6}, {'y': 484.0, 'height': 110.0, 'width': 36.0, 'x': 1056.0, 'dco': False, 'id': 7}, {'y': 484.0, 'height': 115.0, 'width': 31.0, 'x': 1091.0, 'dco': False, 'id': 8}, {'y': 487.0, 'height': 68.0, 'width': 29.0, 'x': 734.0, 'dco': False, 'id': 9}, {'y': 492.0, 'height': 105.0, 'width': 53.0, 'x': 679.0, 'dco': False, 'id': 10}, {'y': 458.0, 'height': 75.0, 'width': 27.0, 'x': 738.0, 'dco': False, 'id': 11}, {'y': 447.0, 'height': 100.0, 'width': 33.0, 'x': 1255.0, 'dco': False, 'id': 12}, {'y': 424.6522521972656, 'height': 117.64469909667969, 'width': 40.567142486572266, 'x': 1034.291015625, 'dco': False, 'id': 13}]}\n",
      "{'num': 0, 'class': 'frame', 'timestamp': 0, 'hypotheses': [{'y': 484.0, 'x': 912.0, 'height': 109.0, 'width': 97.0, 'id': 0}, {'y': 418.0, 'x': 1338.0, 'height': 379.0, 'width': 167.0, 'id': 1}, {'y': 447.0, 'x': 586.0, 'height': 263.0, 'width': 85.0, 'id': 2}, {'y': -1.0, 'x': 1585.0, 'height': 578.0, 'width': 336.0, 'id': 3}, {'y': 441.0, 'x': 1163.0, 'height': 89.0, 'width': 33.0, 'id': 4}, {'y': 431.0, 'x': 1308.0, 'height': 118.0, 'width': 34.0, 'id': 5}, {'y': 431.0, 'x': 1416.0, 'height': 336.0, 'width': 184.0, 'id': 6}, {'y': 484.0, 'x': 1056.0, 'height': 110.0, 'width': 36.0, 'id': 7}, {'y': 484.0, 'x': 1091.0, 'height': 115.0, 'width': 31.0, 'id': 8}, {'y': 487.0, 'x': 734.0, 'height': 68.0, 'width': 29.0, 'id': 9}, {'y': 492.0, 'x': 679.0, 'height': 105.0, 'width': 53.0, 'id': 10}, {'y': 458.0, 'x': 738.0, 'height': 75.0, 'width': 27.0, 'id': 11}, {'y': 447.0, 'x': 1255.0, 'height': 100.0, 'width': 33.0, 'id': 12}, {'y': 430.0, 'x': 1016.0, 'height': 116.0, 'width': 40.0, 'id': 13}]}\n"
     ]
    }
   ],
   "source": [
    "for seq, oo in rb.items():\n",
    "    if not seq: continue\n",
    "    # hypotheses\n",
    "    hypotheses[\"frames\"].append({\"timestamp\": num})\n",
    "    hypotheses[\"frames\"][num][\"num\"] = num\n",
    "    hypotheses[\"frames\"][num][\"class\"] = \"frame\"\n",
    "    hypotheses[\"frames\"][num][\"hypotheses\"] = []\n",
    "    idx = 0\n",
    "    for o, value in seqs[seq].items():\n",
    "        x, y, w, h, *_ = map(float, value)\n",
    "        hypotheses[\"frames\"][num][\"hypotheses\"].append({\"height\": h, \"width\": w, \"id\": idx, \"y\": y, \"x\":x})\n",
    "        idx += 1\n",
    "    # groundtruth\n",
    "    groundtruth[\"frames\"].append({\"timestamp\": num})\n",
    "    groundtruth[\"frames\"][num][\"num\"] = num\n",
    "    groundtruth[\"frames\"][num][\"class\"] = \"frame\"\n",
    "    groundtruth[\"frames\"][num][\"annotations\"] = []\n",
    "    idx = 0\n",
    "    for o, value in oo.items():\n",
    "        x, y, w, h, *_ = map(float, value)\n",
    "        groundtruth[\"frames\"][num][\"annotations\"].append({\"dco\": False, \"height\": h, \"width\": w, \"id\": idx, \"y\": y, \"x\":x})\n",
    "        idx += 1\n",
    "    num += 1\n",
    "\n",
    "# with open('hypotheses.txt', 'w') as outfile:\n",
    "#     json.dump(hypotheses, outfile)\n",
    "    \n",
    "# with open('groundtruth.txt', 'w') as outfile:\n",
    "#     json.dump(groundtruth, outfile)\n",
    "print(groundtruth[\"frames\"][0])\n",
    "print(hypotheses[\"frames\"][0])"
   ]
  },
  {
   "cell_type": "code",
   "execution_count": 39,
   "metadata": {},
   "outputs": [],
   "source": [
    "import sys\n",
    "sys.path.append(\"/home/maybe/pymot\")\n",
    "from pymot import MOTEvaluation"
   ]
  },
  {
   "cell_type": "code",
   "execution_count": 45,
   "metadata": {},
   "outputs": [
    {
     "data": {
      "text/plain": [
       "0.20532099479467902"
      ]
     },
     "execution_count": 45,
     "metadata": {},
     "output_type": "execute_result"
    }
   ],
   "source": [
    "evaluator = MOTEvaluation(groundtruth, hypotheses, 0.2)\n",
    "evaluator.evaluate()\n",
    "evaluator.getMOTA()"
   ]
  },
  {
   "cell_type": "code",
   "execution_count": 46,
   "metadata": {},
   "outputs": [
    {
     "data": {
      "text/plain": [
       "0.5506946548082957"
      ]
     },
     "execution_count": 46,
     "metadata": {},
     "output_type": "execute_result"
    }
   ],
   "source": [
    "evaluator.getMOTP()"
   ]
  },
  {
   "cell_type": "code",
   "execution_count": 47,
   "metadata": {},
   "outputs": [
    {
     "data": {
      "text/plain": [
       "{'MOTA': 0.20532099479467902,\n",
       " 'MOTP': 0.5506946548082957,\n",
       " 'false positive rate': 0.3724696356275304,\n",
       " 'mismatch rate': 0.05089647194910353,\n",
       " 'miss rate': 0.3713128976286871,\n",
       " 'non-recoverable mismatch rate': 0.042220936957779065,\n",
       " 'recoverable mismatch rate': 0.04164256795835743,\n",
       " 'track precision': 1.0,\n",
       " 'track recall': 1.0}"
      ]
     },
     "execution_count": 47,
     "metadata": {},
     "output_type": "execute_result"
    }
   ],
   "source": [
    "evaluator.getRelativeStatistics()"
   ]
  },
  {
   "cell_type": "code",
   "execution_count": 48,
   "metadata": {},
   "outputs": [
    {
     "data": {
      "text/plain": [
       "{'correspondences': 1087,\n",
       " 'covered ground truth tracks': 15,\n",
       " 'covering hypothesis tracks': 15,\n",
       " 'false positives': 644,\n",
       " 'ground truth tracks': 15,\n",
       " 'ground truths': 1729,\n",
       " 'hypothesis tracks': 15,\n",
       " 'lonely ground truth tracks': 0,\n",
       " 'lonely hypothesis tracks': 0,\n",
       " 'mismatches': 88,\n",
       " 'misses': 642,\n",
       " 'non-recoverable mismatches': 73,\n",
       " 'recoverable mismatches': 72,\n",
       " 'total overlap': 598.6050897766174}"
      ]
     },
     "execution_count": 48,
     "metadata": {},
     "output_type": "execute_result"
    }
   ],
   "source": [
    "evaluator.getAbsoluteStatistics()"
   ]
  },
  {
   "cell_type": "code",
   "execution_count": null,
   "metadata": {},
   "outputs": [],
   "source": []
  }
 ],
 "metadata": {
  "kernelspec": {
   "display_name": "Python 3",
   "language": "python",
   "name": "python3"
  },
  "language_info": {
   "codemirror_mode": {
    "name": "ipython",
    "version": 3
   },
   "file_extension": ".py",
   "mimetype": "text/x-python",
   "name": "python",
   "nbconvert_exporter": "python",
   "pygments_lexer": "ipython3",
   "version": "3.5.2"
  }
 },
 "nbformat": 4,
 "nbformat_minor": 2
}
