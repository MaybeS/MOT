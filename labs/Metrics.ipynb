{
 "cells": [
  {
   "cell_type": "code",
   "execution_count": null,
   "metadata": {
    "collapsed": true
   },
   "outputs": [],
   "source": [
    "from glob import glob\n",
    "import re\n",
    "\n",
    "from scipy.io import loadmat\n",
    "import numpy as np\n",
    "import matplotlib.pyplot as plt"
   ]
  },
  {
   "cell_type": "code",
   "execution_count": null,
   "metadata": {
    "collapsed": true
   },
   "outputs": [],
   "source": [
    "gtes = sorted(glob('../data/OTB100GT/*'))\n",
    "files = sorted(glob('../data/OTB100/*'))"
   ]
  },
  {
   "cell_type": "code",
   "execution_count": null,
   "metadata": {
    "collapsed": true
   },
   "outputs": [],
   "source": [
    "assert len(gtes) == len(files)"
   ]
  },
  {
   "cell_type": "code",
   "execution_count": null,
   "metadata": {
    "collapsed": true
   },
   "outputs": [],
   "source": [
    "def loadgt(file):\n",
    "    with open(file) as f:\n",
    "        return np.asarray([list(map(int, re.findall(r'[\\w]+', line.strip()))) for line in f.readlines()])"
   ]
  },
  {
   "cell_type": "code",
   "execution_count": null,
   "metadata": {
    "collapsed": true
   },
   "outputs": [],
   "source": [
    "gtboxes = [loadgt(file + '/groundtruth_rect.txt') for file in gtes]"
   ]
  },
  {
   "cell_type": "code",
   "execution_count": null,
   "metadata": {
    "collapsed": true
   },
   "outputs": [],
   "source": [
    "results = [loadmat(file)['results'][0][0][0][0][0] for file in files]"
   ]
  },
  {
   "cell_type": "code",
   "execution_count": null,
   "metadata": {
    "collapsed": true
   },
   "outputs": [],
   "source": [
    "def location(rect1, rect2):\n",
    "    cx1, cy1 = rect1[0] + rect1[2]/2, rect1[1] + rect1[3]/2\n",
    "    cx2, cy2 = rect2[0] + rect2[2]/2, rect2[1] + rect2[3]/2\n",
    "    return ((cy2-cy1)**2 + (cx2-cx1)**2)**.5"
   ]
  },
  {
   "cell_type": "code",
   "execution_count": null,
   "metadata": {
    "collapsed": true
   },
   "outputs": [],
   "source": [
    "def overlap(rect1, rect2):\n",
    "    left = np.maximum(rect1[0], rect2[0])\n",
    "    right = np.minimum(rect1[0] + rect1[2], rect2[0] + rect2[2])\n",
    "    top = np.maximum(rect1[1], rect2[1])\n",
    "    bottom = np.minimum(rect1[1] + rect1[3], rect2[1] + rect2[3])\n",
    "\n",
    "    intersect = np.maximum(0, right - left) * np.maximum(0, bottom - top)\n",
    "    union = rect1[2] * rect1[3] + rect2[2] * rect2[3] - intersect\n",
    "    iou = np.clip(intersect / union, 0, 1)\n",
    "    return iou"
   ]
  },
  {
   "cell_type": "code",
   "execution_count": null,
   "metadata": {
    "collapsed": true
   },
   "outputs": [],
   "source": [
    "iou = np.asarray([overlap(g, b) for gt, bb in zip(gtboxes, results) for g, b in zip(gt, bb)])"
   ]
  },
  {
   "cell_type": "code",
   "execution_count": null,
   "metadata": {
    "collapsed": true
   },
   "outputs": [],
   "source": [
    "x_iou = np.arange(0, 1.001, .001)"
   ]
  },
  {
   "cell_type": "code",
   "execution_count": null,
   "metadata": {
    "collapsed": true
   },
   "outputs": [],
   "source": [
    "perf_iou = [iou[np.where(iou>=flag)].size / iou.size for flag in x_iou]"
   ]
  },
  {
   "cell_type": "code",
   "execution_count": null,
   "metadata": {
    "scrolled": false
   },
   "outputs": [],
   "source": [
    "plt.plot(x_iou, perf_iou, label='MDNet [%.3f]' % (sum(perf_iou) / len(perf_iou)))\n",
    "plt.legend()\n",
    "plt.show()"
   ]
  },
  {
   "cell_type": "code",
   "execution_count": null,
   "metadata": {
    "collapsed": true
   },
   "outputs": [],
   "source": [
    "cle = np.asarray([location(g, b) for gt, bb in zip(gtboxes, results) for g, b in zip(gt, bb)])"
   ]
  },
  {
   "cell_type": "code",
   "execution_count": null,
   "metadata": {
    "collapsed": true
   },
   "outputs": [],
   "source": [
    "x_cle = np.arange(0, 50, .1)"
   ]
  },
  {
   "cell_type": "code",
   "execution_count": null,
   "metadata": {
    "collapsed": true
   },
   "outputs": [],
   "source": [
    "perf_cle = [cle[np.where(cle<=flag)].size / cle.size for flag in x_cle]"
   ]
  },
  {
   "cell_type": "code",
   "execution_count": null,
   "metadata": {},
   "outputs": [],
   "source": [
    "plt.plot(x_cle, perf_cle, label='MDNet [%.3f]' % (sum(perf_cle) / len(perf_cle)))\n",
    "plt.legend()\n",
    "plt.show()"
   ]
  },
  {
   "cell_type": "code",
   "execution_count": null,
   "metadata": {},
   "outputs": [],
   "source": [
    "f, (ax1, ax2) = plt.subplots(1, 2, sharey=True)\n",
    "ax1.plot(x_cle, perf_cle, label='%.3f' % (sum(perf_cle) / len(perf_cle)))\n",
    "ax1.set_title('CLE')\n",
    "ax1.legend()\n",
    "ax2.plot(x_iou, perf_iou, label='%.3f' % (sum(perf_iou) / len(perf_iou)))\n",
    "ax2.set_title('IoU')\n",
    "ax2.legend()"
   ]
  },
  {
   "cell_type": "markdown",
   "metadata": {},
   "source": [
    "So, we get performance in pyMDNet implementation as below.\n",
    "\n",
    "|           | CLE  | IOU  |\n",
    "| --------- | ---- | ---- |\n",
    "| paper     | .909 | .678 |\n",
    "| implement | .893 | .763 |"
   ]
  }
 ],
 "metadata": {
  "kernelspec": {
   "display_name": "Python 3",
   "language": "python",
   "name": "python3"
  },
  "language_info": {
   "codemirror_mode": {
    "name": "ipython",
    "version": 3
   },
   "file_extension": ".py",
   "mimetype": "text/x-python",
   "name": "python",
   "nbconvert_exporter": "python",
   "pygments_lexer": "ipython3",
   "version": "3.5.2"
  }
 },
 "nbformat": 4,
 "nbformat_minor": 2
}
