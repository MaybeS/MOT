{
 "cells": [
  {
   "cell_type": "code",
   "execution_count": null,
   "metadata": {
    "collapsed": true
   },
   "outputs": [],
   "source": [
    "from glob import glob\n",
    "import re\n",
    "\n",
    "from scipy.io import loadmat\n",
    "import numpy as np\n",
    "import matplotlib.pyplot as plt"
   ]
  },
  {
   "cell_type": "code",
   "execution_count": null,
   "metadata": {
    "collapsed": true
   },
   "outputs": [],
   "source": [
    "gtes = sorted(glob('../data/OTB100GT/*'))\n",
    "files = sorted(glob('../data/OTB100/*'))"
   ]
  },
  {
   "cell_type": "code",
   "execution_count": null,
   "metadata": {
    "collapsed": true
   },
   "outputs": [],
   "source": [
    "assert len(gtes) == len(files)"
   ]
  },
  {
   "cell_type": "code",
   "execution_count": null,
   "metadata": {
    "collapsed": true
   },
   "outputs": [],
   "source": [
    "def loadgt(file):\n",
    "    with open(file) as f:\n",
    "        return np.asarray([list(map(int, re.findall(r'[\\w]+', line.strip()))) for line in f.readlines()])"
   ]
  },
  {
   "cell_type": "code",
   "execution_count": null,
   "metadata": {
    "collapsed": true
   },
   "outputs": [],
   "source": [
    "gtboxes = [loadgt(file + '/groundtruth_rect.txt') for file in gtes]"
   ]
  },
  {
   "cell_type": "code",
   "execution_count": null,
   "metadata": {
    "collapsed": true
   },
   "outputs": [],
   "source": [
    "results = [loadmat(file)['results'][0][0][0][0][0] for file in files]"
   ]
  },
  {
   "cell_type": "code",
   "execution_count": null,
   "metadata": {
    "collapsed": true
   },
   "outputs": [],
   "source": [
    "def location(rect1, rect2):\n",
    "    cx1, cy1 = rect1[0] + rect1[2]/2, rect1[1] + rect1[3]/2\n",
    "    cx2, cy2 = rect2[0] + rect2[2]/2, rect2[1] + rect2[3]/2\n",
    "    return ((cy2-cy1)**2 + (cx2-cx1)**2)**.5"
   ]
  },
  {
   "cell_type": "code",
   "execution_count": null,
   "metadata": {
    "collapsed": true
   },
   "outputs": [],
   "source": [
    "def overlap(rect1, rect2):\n",
    "    left = np.maximum(rect1[0], rect2[0])\n",
    "    right = np.minimum(rect1[0] + rect1[2], rect2[0] + rect2[2])\n",
    "    top = np.maximum(rect1[1], rect2[1])\n",
    "    bottom = np.minimum(rect1[1] + rect1[3], rect2[1] + rect2[3])\n",
    "\n",
    "    intersect = np.maximum(0, right - left) * np.maximum(0, bottom - top)\n",
    "    union = rect1[2] * rect1[3] + rect2[2] * rect2[3] - intersect\n",
    "    iou = np.clip(intersect / union, 0, 1)\n",
    "    return iou"
   ]
  },
  {
   "cell_type": "code",
   "execution_count": null,
   "metadata": {
    "collapsed": true
   },
   "outputs": [],
   "source": [
    "iou = np.asarray([overlap(g, b) for gt, bb in zip(gtboxes, results) for g, b in zip(gt, bb)])"
   ]
  },
  {
   "cell_type": "code",
   "execution_count": null,
   "metadata": {
    "collapsed": true
   },
   "outputs": [],
   "source": [
    "x_iou = np.arange(0, 1.001, .001)"
   ]
  },
  {
   "cell_type": "code",
   "execution_count": null,
   "metadata": {
    "collapsed": true
   },
   "outputs": [],
   "source": [
    "perf_iou = [iou[np.where(iou>=flag)].size / iou.size for flag in x_iou]"
   ]
  },
  {
   "cell_type": "code",
   "execution_count": null,
   "metadata": {
    "scrolled": false
   },
   "outputs": [],
   "source": [
    "plt.plot(x_iou, perf_iou, label='MDNet [%.3f]' % (sum(perf_iou) / len(perf_iou)))\n",
    "plt.legend()\n",
    "plt.show()"
   ]
  },
  {
   "cell_type": "code",
   "execution_count": null,
   "metadata": {
    "collapsed": true
   },
   "outputs": [],
   "source": [
    "cle = np.asarray([location(g, b) for gt, bb in zip(gtboxes, results) for g, b in zip(gt, bb)])"
   ]
  },
  {
   "cell_type": "code",
   "execution_count": null,
   "metadata": {
    "collapsed": true
   },
   "outputs": [],
   "source": [
    "x_cle = np.arange(0, 50, .1)"
   ]
  },
  {
   "cell_type": "code",
   "execution_count": null,
   "metadata": {
    "collapsed": true
   },
   "outputs": [],
   "source": [
    "perf_cle = [cle[np.where(cle<=flag)].size / cle.size for flag in x_cle]"
   ]
  },
  {
   "cell_type": "code",
   "execution_count": null,
   "metadata": {},
   "outputs": [],
   "source": [
    "plt.plot(x_cle, perf_cle, label='MDNet [%.3f]' % (sum(perf_cle) / len(perf_cle)))\n",
    "plt.legend()\n",
    "plt.show()"
   ]
  },
  {
   "cell_type": "code",
   "execution_count": null,
   "metadata": {},
   "outputs": [],
   "source": [
    "f, (ax1, ax2) = plt.subplots(1, 2, sharey=True)\n",
    "ax1.plot(x_cle, perf_cle, label='%.3f' % (sum(perf_cle) / len(perf_cle)))\n",
    "ax1.set_title('CLE')\n",
    "ax1.legend()\n",
    "ax2.plot(x_iou, perf_iou, label='%.3f' % (sum(perf_iou) / len(perf_iou)))\n",
    "ax2.set_title('IoU')\n",
    "ax2.legend()"
   ]
  },
  {
   "cell_type": "markdown",
   "metadata": {},
   "source": [
    "So, we get performance in pyMDNet implementation as below.\n",
    "\n",
    "|           | CLE  | IOU  |\n",
    "| --------- | ---- | ---- |\n",
    "| paper     | .909 | .678 |\n",
    "| implement | .893 | .763 |"
   ]
  },
  {
   "cell_type": "code",
   "execution_count": 31,
   "metadata": {},
   "outputs": [],
   "source": [
    "import sys\n",
    "sys.path.append(\"/home/maybe/pymot\")\n",
    "from pymot import MOTEvaluation\n",
    "import json\n",
    "from collections import defaultdict\n",
    "from glob import glob\n",
    "from os import path\n",
    "import pickle"
   ]
  },
  {
   "cell_type": "code",
   "execution_count": 32,
   "metadata": {},
   "outputs": [],
   "source": [
    "def mot(groundtruth, hypotheses):\n",
    "    evaluator = MOTEvaluation(groundtruth, hypotheses, 0.2)\n",
    "    evaluator.evaluate()\n",
    "    print(evaluator.getMOTA())\n",
    "    print(evaluator.getMOTP()\n",
    "    evaluator.getRelativeStatistics()\n",
    "    evaluator.getAbsoluteStatistics()"
   ]
  },
  {
   "cell_type": "code",
   "execution_count": 36,
   "metadata": {},
   "outputs": [],
   "source": [
    "def load_result():\n",
    "    data_path = '/home/maybe/MOT17/train/MOT17-02-DPM/'\n",
    "    seqs = defaultdict(dict)\n",
    "    objs = defaultdict(dict)\n",
    "    with open(path.join(data_path, 'gt', 'gt.txt')) as f:\n",
    "        for seq, obj, *data in [line.strip().split(',') for line in f.readlines()]:\n",
    "            if int(obj) < 16:\n",
    "                seqs[int(seq)][int(obj)] = data\n",
    "                objs[int(obj)][int(seq)] = data\n",
    "    pb = defaultdict(dict)\n",
    "    for file in glob('../results_*.p'):\n",
    "        obj_id = int(file.split('_')[1].split('.')[0])\n",
    "        with open(file, 'rb') as f:\n",
    "            r = pickle.load(f)\n",
    "        pb[obj_id] = r\n",
    "    rb = defaultdict(dict)\n",
    "    for obj, values in objs.items():\n",
    "        for v, d in values.items():\n",
    "            if v < len(pb[obj]):\n",
    "                rb[v][obj] = pb[obj][v]\n",
    "    return rb, seqs"
   ]
  },
  {
   "cell_type": "code",
   "execution_count": 37,
   "metadata": {},
   "outputs": [],
   "source": [
    "def result_to_json(rb, seqs):\n",
    "    hypotheses = {}\n",
    "    groundtruth = {}\n",
    "    num = 0\n",
    "    hypotheses['frames'] = []\n",
    "    hypotheses['class'] = \"video\"\n",
    "    hypotheses['filename'] = \"/home/maybe/MOT/labs/mot17.idx\"\n",
    "    groundtruth['frames'] = []\n",
    "    groundtruth['class'] = \"video\"\n",
    "    groundtruth['filename'] = \"/home/maybe/MOT/labs/mot17.idx\"\n",
    "    for seq, oo in rb.items():\n",
    "        if not seq: continue\n",
    "        # hypotheses\n",
    "        hypotheses[\"frames\"].append({\"timestamp\": num})\n",
    "        hypotheses[\"frames\"][num][\"num\"] = num\n",
    "        hypotheses[\"frames\"][num][\"class\"] = \"frame\"\n",
    "        hypotheses[\"frames\"][num][\"hypotheses\"] = []\n",
    "        idx = 0\n",
    "        for o, value in seqs[seq].items():\n",
    "            x, y, w, h, *_ = map(float, value)\n",
    "            hypotheses[\"frames\"][num][\"hypotheses\"].append({\"height\": h, \"width\": w, \"id\": idx, \"y\": y, \"x\":x})\n",
    "            idx += 1\n",
    "        # groundtruth\n",
    "        groundtruth[\"frames\"].append({\"timestamp\": num})\n",
    "        groundtruth[\"frames\"][num][\"num\"] = num\n",
    "        groundtruth[\"frames\"][num][\"class\"] = \"frame\"\n",
    "        groundtruth[\"frames\"][num][\"annotations\"] = []\n",
    "        idx = 0\n",
    "        for o, value in oo.items():\n",
    "            x, y, w, h, *_ = map(float, value)\n",
    "            groundtruth[\"frames\"][num][\"annotations\"].append({\"dco\": False, \"height\": h, \"width\": w, \"id\": idx, \"y\": y, \"x\":x})\n",
    "            idx += 1\n",
    "        num += 1\n",
    "    return groundtruth, hypotheses"
   ]
  },
  {
   "cell_type": "code",
   "execution_count": 38,
   "metadata": {},
   "outputs": [],
   "source": [
    "rb, seqs = load_result()\n",
    "groundtruth, hypotheses = result_to_json(rb, seqs)\n",
    "mot(groundtruth, hypotheses)"
   ]
  },
  {
   "cell_type": "code",
   "execution_count": null,
   "metadata": {},
   "outputs": [],
   "source": []
  },
  {
   "cell_type": "code",
   "execution_count": null,
   "metadata": {},
   "outputs": [],
   "source": []
  }
 ],
 "metadata": {
  "kernelspec": {
   "display_name": "Python 3",
   "language": "python",
   "name": "python3"
  },
  "language_info": {
   "codemirror_mode": {
    "name": "ipython",
    "version": 3
   },
   "file_extension": ".py",
   "mimetype": "text/x-python",
   "name": "python",
   "nbconvert_exporter": "python",
   "pygments_lexer": "ipython3",
   "version": "3.5.3"
  }
 },
 "nbformat": 4,
 "nbformat_minor": 2
}
