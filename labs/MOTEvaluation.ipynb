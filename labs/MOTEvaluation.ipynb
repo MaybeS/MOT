{
 "cells": [
  {
   "cell_type": "code",
   "execution_count": 1,
   "metadata": {
    "collapsed": true
   },
   "outputs": [],
   "source": [
    "from pymot import MOTEvaluation\n",
    "from os import path\n",
    "from collections import defaultdict"
   ]
  },
  {
   "cell_type": "code",
   "execution_count": 2,
   "metadata": {
    "collapsed": true
   },
   "outputs": [],
   "source": [
    "len_seq = 600"
   ]
  },
  {
   "cell_type": "code",
   "execution_count": 9,
   "metadata": {
    "collapsed": true
   },
   "outputs": [],
   "source": [
    "def mot(groundtruth, hypotheses):\n",
    "    evaluator = MOTEvaluation(groundtruth, hypotheses, 0.2)\n",
    "    evaluator.evaluate()\n",
    "    print(\"MOTA: \", evaluator.getMOTA())\n",
    "    print(\"MOTP: \", evaluator.getMOTP())\n",
    "    print(evaluator.getRelativeStatistics())\n",
    "    print(evaluator.getAbsoluteStatistics())"
   ]
  },
  {
   "cell_type": "code",
   "execution_count": 11,
   "metadata": {
    "collapsed": true
   },
   "outputs": [],
   "source": [
    "def load_result():\n",
    "    data_path = '../dataset/MOT16/train/MOT16-02'\n",
    "    gt = [[] for i in range(len_seq + 1)]\n",
    "    result = [[] for i in range(len_seq + 1)]\n",
    "    with open(path.join(data_path, 'gt', 'gt.txt')) as f:\n",
    "        for seq, *data in [line.strip().split(',') for line in f.readlines()]:\n",
    "            gt[int(seq)].append(data)\n",
    "    \n",
    "    with open(path.join(data_path, 'MOT16-02.txt')) as f:\n",
    "        for seq, *data in [line.strip().split(',') for line in f.readlines()]:\n",
    "            result[int(seq)].append(data)\n",
    "\n",
    "    return gt, result"
   ]
  },
  {
   "cell_type": "code",
   "execution_count": 12,
   "metadata": {
    "collapsed": true
   },
   "outputs": [],
   "source": [
    "def result_to_json(gt, result):\n",
    "    hypotheses = {}\n",
    "    groundtruth = {}\n",
    "    num = 0\n",
    "    hypotheses['frames'] = []\n",
    "    hypotheses['class'] = \"video\"\n",
    "    hypotheses['filename'] = \"../MOT/labs/mot17.idx\"\n",
    "    groundtruth['frames'] = []\n",
    "    groundtruth['class'] = \"video\"\n",
    "    groundtruth['filename'] = \"../MOT/labs/mot17.idx\"\n",
    "    for g in gt:\n",
    "        groundtruth[\"frames\"].append({\"timestamp\": num})\n",
    "        groundtruth[\"frames\"][num][\"num\"] = num\n",
    "        groundtruth[\"frames\"][num][\"class\"] = \"frame\"\n",
    "        groundtruth[\"frames\"][num][\"annotations\"] = []\n",
    "        for obj in g:\n",
    "            idx, x, y, w, h = obj[0], float(obj[1]), float(obj[2]), float(obj[3]), float(obj[4])\n",
    "            groundtruth[\"frames\"][num][\"annotations\"].append({\"dco\": False, \"height\": h, \"width\": w, \"id\": idx, \"y\": y, \"x\":x})\n",
    "        num += 1\n",
    "        \n",
    "    num = 0\n",
    "    for r in result:\n",
    "        hypotheses[\"frames\"].append({\"timestamp\": num})\n",
    "        hypotheses[\"frames\"][num][\"num\"] = num\n",
    "        hypotheses[\"frames\"][num][\"class\"] = \"frame\"\n",
    "        hypotheses[\"frames\"][num][\"hypotheses\"] = []\n",
    "        for obj in r:\n",
    "            idx, x, y, w, h = obj[0], float(obj[1]), float(obj[2]), float(obj[3]), float(obj[4])\n",
    "            hypotheses[\"frames\"][num][\"hypotheses\"].append({\"height\": h, \"width\": w, \"id\": idx, \"y\": y, \"x\":x})\n",
    "        num+=1\n",
    "    return groundtruth, hypotheses"
   ]
  },
  {
   "cell_type": "code",
   "execution_count": 13,
   "metadata": {
    "collapsed": true
   },
   "outputs": [],
   "source": [
    "gt, result = load_result()\n",
    "groundtruth, hypotheses = result_to_json(gt, result)\n"
   ]
  },
  {
   "cell_type": "code",
   "execution_count": 14,
   "metadata": {},
   "outputs": [
    {
     "name": "stdout",
     "output_type": "stream",
     "text": [
      "MOTA:  0.21676429280992016\n",
      "MOTP:  0.6889900951615796\n",
      "{'recoverable mismatch rate': 0.0018497585037508992, 'MOTA': 0.21676429280992016, 'false positive rate': 0.0014387010584729215, 'track precision': 0.978021978021978, 'track recall': 0.6756756756756757, 'mismatch rate': 0.001986777652176892, 'MOTP': 0.6889900951615796, 'non-recoverable mismatch rate': 0.000513821806597472, 'miss rate': 0.77981022847943}\n",
      "{'lonely ground truth tracks': 24, 'misses': 22765, 'mismatches': 58, 'recoverable mismatches': 54, 'lonely hypothesis tracks': 2, 'non-recoverable mismatches': 15, 'covering hypothesis tracks': 89, 'correspondences': 6428, 'ground truths': 29193, 'false positives': 42, 'ground truth tracks': 74, 'covered ground truth tracks': 50, 'hypothesis tracks': 91, 'total overlap': 4428.8283316986335}\n"
     ]
    }
   ],
   "source": [
    "mot(groundtruth, hypotheses)"
   ]
  },
  {
   "cell_type": "code",
   "execution_count": null,
   "metadata": {
    "collapsed": true
   },
   "outputs": [],
   "source": []
  }
 ],
 "metadata": {
  "kernelspec": {
   "display_name": "Python 3",
   "language": "python",
   "name": "python3"
  },
  "language_info": {
   "codemirror_mode": {
    "name": "ipython",
    "version": 3
   },
   "file_extension": ".py",
   "mimetype": "text/x-python",
   "name": "python",
   "nbconvert_exporter": "python",
   "pygments_lexer": "ipython3",
   "version": "3.5.3"
  }
 },
 "nbformat": 4,
 "nbformat_minor": 2
}
