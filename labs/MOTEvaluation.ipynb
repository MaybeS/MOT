{
 "cells": [
  {
   "cell_type": "code",
   "execution_count": 16,
   "metadata": {},
   "outputs": [],
   "source": [
    "from pymot import MOTEvaluation\n",
    "from os import path, listdir\n",
    "from collections import defaultdict"
   ]
  },
  {
   "cell_type": "code",
   "execution_count": 17,
   "metadata": {
    "collapsed": true
   },
   "outputs": [],
   "source": [
    "result_path = \"../dataset/results/mot17_val_motdt\"\n",
    "data_path = \"../dataset/train\""
   ]
  },
  {
   "cell_type": "code",
   "execution_count": 18,
   "metadata": {
    "collapsed": true
   },
   "outputs": [],
   "source": [
    "def mot(testname, groundtruth, hypotheses, MOTA):\n",
    "    evaluator = MOTEvaluation(groundtruth, hypotheses, 0.2)\n",
    "    evaluator.evaluate()\n",
    "    MOTA[testname] = (evaluator.getMOTA(), evaluator.getMOTP())\n",
    "    print(\"MOTA: \", evaluator.getMOTA())\n",
    "    print(\"MOTP: \", evaluator.getMOTP())\n",
    "    print(evaluator.getRelativeStatistics())\n",
    "    print(evaluator.getAbsoluteStatistics())"
   ]
  },
  {
   "cell_type": "code",
   "execution_count": 19,
   "metadata": {
    "collapsed": true
   },
   "outputs": [],
   "source": [
    "def load_result(data_file, result_file):\n",
    "    len_seq = 0\n",
    "    with open(path.join(data_file, \"seqinfo.ini\")) as f:\n",
    "        len_seq = int(f.readlines()[4].strip().split(\"=\")[1])\n",
    "    \n",
    "    gt = [[] for i in range(len_seq + 1)]\n",
    "    result = [[] for i in range(len_seq + 1)]\n",
    "    with open(path.join(data_file, 'gt', 'gt.txt')) as f:\n",
    "        for seq, *data in [line.strip().split(',') for line in f.readlines()]:\n",
    "            gt[int(seq)].append(data)\n",
    "    \n",
    "    with open(result_file) as f:\n",
    "        for seq, *data in [line.strip().split(',') for line in f.readlines()]:\n",
    "            result[int(seq)].append(data)\n",
    "\n",
    "    return gt, result"
   ]
  },
  {
   "cell_type": "code",
   "execution_count": 20,
   "metadata": {
    "collapsed": true
   },
   "outputs": [],
   "source": [
    "def result_to_json(gt, result):\n",
    "    hypotheses = {}\n",
    "    groundtruth = {}\n",
    "    num = 0\n",
    "    hypotheses['frames'] = []\n",
    "    hypotheses['class'] = \"video\"\n",
    "    hypotheses['filename'] = \"../MOT/labs/mot17.idx\"\n",
    "    groundtruth['frames'] = []\n",
    "    groundtruth['class'] = \"video\"\n",
    "    groundtruth['filename'] = \"../MOT/labs/mot17.idx\"\n",
    "    for g in gt:\n",
    "        groundtruth[\"frames\"].append({\"timestamp\": num})\n",
    "        groundtruth[\"frames\"][num][\"num\"] = num\n",
    "        groundtruth[\"frames\"][num][\"class\"] = \"frame\"\n",
    "        groundtruth[\"frames\"][num][\"annotations\"] = []\n",
    "        for obj in g:\n",
    "            if num == 1:\n",
    "                continue\n",
    "            idx, x, y, w, h = obj[0], float(obj[1]), float(obj[2]), float(obj[3]), float(obj[4])\n",
    "            if w < 0 or h < 0 :\n",
    "                #print(\"wrong value in gt\")\n",
    "                #print(obj)\n",
    "                continue\n",
    "            groundtruth[\"frames\"][num][\"annotations\"].append({\"dco\": False, \"height\": h, \"width\": w, \"id\": idx, \"y\": y, \"x\":x})\n",
    "        num += 1\n",
    "        \n",
    "    num = 0\n",
    "    for r in result:\n",
    "        hypotheses[\"frames\"].append({\"timestamp\": num})\n",
    "        hypotheses[\"frames\"][num][\"num\"] = num\n",
    "        hypotheses[\"frames\"][num][\"class\"] = \"frame\"\n",
    "        hypotheses[\"frames\"][num][\"hypotheses\"] = []\n",
    "        for obj in r:\n",
    "            idx, x, y, w, h = obj[0], float(obj[1]), float(obj[2]), float(obj[3]), float(obj[4])\n",
    "            if w < 0 or h < 0 :\n",
    "                #print(\"wrong value in det\")\n",
    "                #print(obj)\n",
    "                continue\n",
    "            hypotheses[\"frames\"][num][\"hypotheses\"].append({\"height\": h, \"width\": w, \"id\": idx, \"y\": y, \"x\":x})\n",
    "        num+=1\n",
    "    return groundtruth, hypotheses"
   ]
  },
  {
   "cell_type": "code",
   "execution_count": 21,
   "metadata": {
    "collapsed": true
   },
   "outputs": [],
   "source": [
    "MOTA = {}"
   ]
  },
  {
   "cell_type": "code",
   "execution_count": 22,
   "metadata": {},
   "outputs": [
    {
     "name": "stdout",
     "output_type": "stream",
     "text": [
      "0 37 0 29964\n",
      "0 37 0 29964\n",
      "MOTA:  0.9987651848885329\n",
      "MOTP:  0.6870555177877732\n",
      "0 37 0 29964\n",
      "{'track recall': 0.6144578313253012, 'mismatch rate': 0.0, 'MOTP': 0.6870555177877732, 'non-recoverable mismatch rate': 0.0, 'recoverable mismatch rate': 0.0, 'MOTA': 0.9987651848885329, 'track precision': 0.978021978021978, 'miss rate': 0.0, 'false positive rate': 0.0012348151114670938}\n",
      "{'false positives': 37, 'hypothesis tracks': 91, 'non-recoverable mismatches': 0, 'covering hypothesis tracks': 89, 'misses': 0, 'ground truths': 29964, 'mismatches': 0, 'covered ground truth tracks': 51, 'ground truth tracks': 83, 'lonely ground truth tracks': 32, 'recoverable mismatches': 0, 'total overlap': 4488.533697707522, 'correspondences': 6533, 'lonely hypothesis tracks': 2}\n",
      "(0.9987651848885329, 0.6870555177877732)\n",
      "0 13 2 29964\n",
      "0 13 2 29964\n",
      "MOTA:  0.999499399279135\n",
      "MOTP:  0.8152262874925009\n",
      "0 13 2 29964\n",
      "{'track recall': 0.6144578313253012, 'mismatch rate': 6.674676278200507e-05, 'MOTP': 0.8152262874925009, 'non-recoverable mismatch rate': 6.674676278200507e-05, 'recoverable mismatch rate': 0.0, 'MOTA': 0.999499399279135, 'track precision': 1.0, 'miss rate': 0.0, 'false positive rate': 0.000433853958083033}\n",
      "{'false positives': 13, 'hypothesis tracks': 99, 'non-recoverable mismatches': 2, 'covering hypothesis tracks': 99, 'misses': 0, 'ground truths': 29964, 'mismatches': 2, 'covered ground truth tracks': 51, 'ground truth tracks': 83, 'lonely ground truth tracks': 32, 'recoverable mismatches': 0, 'total overlap': 5991.913213069882, 'correspondences': 7350, 'lonely hypothesis tracks': 0}\n",
      "(0.999499399279135, 0.8152262874925009)\n",
      "0 62 3 29964\n",
      "0 62 3 29964\n",
      "MOTA:  0.9978307302095848\n",
      "MOTP:  0.7604021910810511\n",
      "0 62 3 29964\n",
      "{'track recall': 0.7951807228915663, 'mismatch rate': 0.00010012014417300761, 'MOTP': 0.7604021910810511, 'non-recoverable mismatch rate': 0.00010012014417300761, 'recoverable mismatch rate': 0.0, 'MOTA': 0.9978307302095848, 'track precision': 0.9883040935672515, 'miss rate': 0.0, 'false positive rate': 0.002069149646242157}\n",
      "{'false positives': 62, 'hypothesis tracks': 171, 'non-recoverable mismatches': 3, 'covering hypothesis tracks': 169, 'misses': 0, 'ground truths': 29964, 'mismatches': 3, 'covered ground truth tracks': 66, 'ground truth tracks': 83, 'lonely ground truth tracks': 17, 'recoverable mismatches': 0, 'total overlap': 7689.94735840267, 'correspondences': 10113, 'lonely hypothesis tracks': 2}\n",
      "(0.9978307302095848, 0.7604021910810511)\n"
     ]
    },
    {
     "ename": "KeyboardInterrupt",
     "evalue": "",
     "output_type": "error",
     "traceback": [
      "\u001b[1;31m---------------------------------------------------------------------------\u001b[0m",
      "\u001b[1;31mKeyboardInterrupt\u001b[0m                         Traceback (most recent call last)",
      "\u001b[1;32m<ipython-input-22-0e6976b697eb>\u001b[0m in \u001b[0;36m<module>\u001b[1;34m()\u001b[0m\n\u001b[0;32m      2\u001b[0m     \u001b[0mgt\u001b[0m\u001b[1;33m,\u001b[0m \u001b[0mresult\u001b[0m \u001b[1;33m=\u001b[0m \u001b[0mload_result\u001b[0m\u001b[1;33m(\u001b[0m\u001b[0mpath\u001b[0m\u001b[1;33m.\u001b[0m\u001b[0mjoin\u001b[0m\u001b[1;33m(\u001b[0m\u001b[0mdata_path\u001b[0m\u001b[1;33m,\u001b[0m\u001b[0mf\u001b[0m\u001b[1;33m)\u001b[0m\u001b[1;33m,\u001b[0m \u001b[0mpath\u001b[0m\u001b[1;33m.\u001b[0m\u001b[0mjoin\u001b[0m\u001b[1;33m(\u001b[0m\u001b[0mresult_path\u001b[0m \u001b[1;33m,\u001b[0m\u001b[0mf\u001b[0m\u001b[1;33m+\u001b[0m\u001b[1;34m\".txt\"\u001b[0m\u001b[1;33m)\u001b[0m\u001b[1;33m)\u001b[0m\u001b[1;33m\u001b[0m\u001b[0m\n\u001b[0;32m      3\u001b[0m     \u001b[0mgroundtruth\u001b[0m\u001b[1;33m,\u001b[0m \u001b[0mhypotheses\u001b[0m \u001b[1;33m=\u001b[0m \u001b[0mresult_to_json\u001b[0m\u001b[1;33m(\u001b[0m\u001b[0mgt\u001b[0m\u001b[1;33m,\u001b[0m \u001b[0mresult\u001b[0m\u001b[1;33m)\u001b[0m\u001b[1;33m\u001b[0m\u001b[0m\n\u001b[1;32m----> 4\u001b[1;33m     \u001b[0mmot\u001b[0m\u001b[1;33m(\u001b[0m\u001b[0mf\u001b[0m\u001b[1;33m,\u001b[0m \u001b[0mgroundtruth\u001b[0m\u001b[1;33m,\u001b[0m \u001b[0mhypotheses\u001b[0m\u001b[1;33m,\u001b[0m \u001b[0mMOTA\u001b[0m\u001b[1;33m)\u001b[0m\u001b[1;33m\u001b[0m\u001b[0m\n\u001b[0m\u001b[0;32m      5\u001b[0m     \u001b[0mprint\u001b[0m\u001b[1;33m(\u001b[0m\u001b[0mMOTA\u001b[0m\u001b[1;33m[\u001b[0m\u001b[0mf\u001b[0m\u001b[1;33m]\u001b[0m\u001b[1;33m)\u001b[0m\u001b[1;33m\u001b[0m\u001b[0m\n",
      "\u001b[1;32m<ipython-input-18-89e5129cf116>\u001b[0m in \u001b[0;36mmot\u001b[1;34m(testname, groundtruth, hypotheses, MOTA)\u001b[0m\n\u001b[0;32m      1\u001b[0m \u001b[1;32mdef\u001b[0m \u001b[0mmot\u001b[0m\u001b[1;33m(\u001b[0m\u001b[0mtestname\u001b[0m\u001b[1;33m,\u001b[0m \u001b[0mgroundtruth\u001b[0m\u001b[1;33m,\u001b[0m \u001b[0mhypotheses\u001b[0m\u001b[1;33m,\u001b[0m \u001b[0mMOTA\u001b[0m\u001b[1;33m)\u001b[0m\u001b[1;33m:\u001b[0m\u001b[1;33m\u001b[0m\u001b[0m\n\u001b[0;32m      2\u001b[0m     \u001b[0mevaluator\u001b[0m \u001b[1;33m=\u001b[0m \u001b[0mMOTEvaluation\u001b[0m\u001b[1;33m(\u001b[0m\u001b[0mgroundtruth\u001b[0m\u001b[1;33m,\u001b[0m \u001b[0mhypotheses\u001b[0m\u001b[1;33m,\u001b[0m \u001b[1;36m0.2\u001b[0m\u001b[1;33m)\u001b[0m\u001b[1;33m\u001b[0m\u001b[0m\n\u001b[1;32m----> 3\u001b[1;33m     \u001b[0mevaluator\u001b[0m\u001b[1;33m.\u001b[0m\u001b[0mevaluate\u001b[0m\u001b[1;33m(\u001b[0m\u001b[1;33m)\u001b[0m\u001b[1;33m\u001b[0m\u001b[0m\n\u001b[0m\u001b[0;32m      4\u001b[0m     \u001b[0mMOTA\u001b[0m\u001b[1;33m[\u001b[0m\u001b[0mtestname\u001b[0m\u001b[1;33m]\u001b[0m \u001b[1;33m=\u001b[0m \u001b[1;33m(\u001b[0m\u001b[0mevaluator\u001b[0m\u001b[1;33m.\u001b[0m\u001b[0mgetMOTA\u001b[0m\u001b[1;33m(\u001b[0m\u001b[1;33m)\u001b[0m\u001b[1;33m,\u001b[0m \u001b[0mevaluator\u001b[0m\u001b[1;33m.\u001b[0m\u001b[0mgetMOTP\u001b[0m\u001b[1;33m(\u001b[0m\u001b[1;33m)\u001b[0m\u001b[1;33m)\u001b[0m\u001b[1;33m\u001b[0m\u001b[0m\n\u001b[0;32m      5\u001b[0m     \u001b[0mprint\u001b[0m\u001b[1;33m(\u001b[0m\u001b[1;34m\"MOTA: \"\u001b[0m\u001b[1;33m,\u001b[0m \u001b[0mevaluator\u001b[0m\u001b[1;33m.\u001b[0m\u001b[0mgetMOTA\u001b[0m\u001b[1;33m(\u001b[0m\u001b[1;33m)\u001b[0m\u001b[1;33m)\u001b[0m\u001b[1;33m\u001b[0m\u001b[0m\n",
      "\u001b[1;32mD:\\workspace\\pymot\\pymot.py\u001b[0m in \u001b[0;36mevaluate\u001b[1;34m(self)\u001b[0m\n\u001b[0;32m     86\u001b[0m         \u001b[0mframes\u001b[0m \u001b[1;33m=\u001b[0m \u001b[0mself\u001b[0m\u001b[1;33m.\u001b[0m\u001b[0mgroundtruth_\u001b[0m\u001b[1;33m[\u001b[0m\u001b[1;34m\"frames\"\u001b[0m\u001b[1;33m]\u001b[0m\u001b[1;33m\u001b[0m\u001b[0m\n\u001b[0;32m     87\u001b[0m         \u001b[1;32mfor\u001b[0m \u001b[0mframe\u001b[0m \u001b[1;32min\u001b[0m \u001b[0mframes\u001b[0m\u001b[1;33m:\u001b[0m\u001b[1;33m\u001b[0m\u001b[0m\n\u001b[1;32m---> 88\u001b[1;33m             \u001b[0mself\u001b[0m\u001b[1;33m.\u001b[0m\u001b[0mevaluateFrame\u001b[0m\u001b[1;33m(\u001b[0m\u001b[0mframe\u001b[0m\u001b[1;33m)\u001b[0m\u001b[1;33m\u001b[0m\u001b[0m\n\u001b[0m\u001b[0;32m     89\u001b[0m \u001b[1;33m\u001b[0m\u001b[0m\n\u001b[0;32m     90\u001b[0m \u001b[1;33m\u001b[0m\u001b[0m\n",
      "\u001b[1;32mD:\\workspace\\pymot\\pymot.py\u001b[0m in \u001b[0;36mevaluateFrame\u001b[1;34m(self, frame)\u001b[0m\n\u001b[0;32m    207\u001b[0m         \u001b[1;32mif\u001b[0m \u001b[0mlen\u001b[0m\u001b[1;33m(\u001b[0m\u001b[0mmunkres_matrix\u001b[0m\u001b[1;33m)\u001b[0m \u001b[1;33m>\u001b[0m \u001b[1;36m0\u001b[0m\u001b[1;33m:\u001b[0m\u001b[1;33m\u001b[0m\u001b[0m\n\u001b[0;32m    208\u001b[0m             \u001b[0mm\u001b[0m \u001b[1;33m=\u001b[0m \u001b[0mMunkres\u001b[0m\u001b[1;33m(\u001b[0m\u001b[1;33m)\u001b[0m\u001b[1;33m\u001b[0m\u001b[0m\n\u001b[1;32m--> 209\u001b[1;33m             \u001b[0mindices\u001b[0m \u001b[1;33m=\u001b[0m \u001b[0mm\u001b[0m\u001b[1;33m.\u001b[0m\u001b[0mcompute\u001b[0m\u001b[1;33m(\u001b[0m\u001b[0mmunkres_matrix\u001b[0m\u001b[1;33m)\u001b[0m\u001b[1;33m\u001b[0m\u001b[0m\n\u001b[0m\u001b[0;32m    210\u001b[0m         \u001b[1;32melse\u001b[0m\u001b[1;33m:\u001b[0m\u001b[1;33m\u001b[0m\u001b[0m\n\u001b[0;32m    211\u001b[0m             \u001b[0mLOG\u001b[0m\u001b[1;33m.\u001b[0m\u001b[0minfo\u001b[0m\u001b[1;33m(\u001b[0m\u001b[1;34m\"No need to run Hungarian with %d ground truths and %d hypothesis.\"\u001b[0m \u001b[1;33m%\u001b[0m \u001b[1;33m(\u001b[0m\u001b[0mlen\u001b[0m\u001b[1;33m(\u001b[0m\u001b[0mgroundtruths\u001b[0m\u001b[1;33m)\u001b[0m\u001b[1;33m,\u001b[0m \u001b[0mlen\u001b[0m\u001b[1;33m(\u001b[0m\u001b[0mhypotheses\u001b[0m\u001b[1;33m)\u001b[0m\u001b[1;33m)\u001b[0m\u001b[1;33m)\u001b[0m\u001b[1;33m\u001b[0m\u001b[0m\n",
      "\u001b[1;32mc:\\users\\jkjh0\\appdata\\local\\programs\\python\\python35\\lib\\site-packages\\munkres.py\u001b[0m in \u001b[0;36mcompute\u001b[1;34m(self, cost_matrix)\u001b[0m\n\u001b[0;32m    446\u001b[0m             \u001b[1;32mtry\u001b[0m\u001b[1;33m:\u001b[0m\u001b[1;33m\u001b[0m\u001b[0m\n\u001b[0;32m    447\u001b[0m                 \u001b[0mfunc\u001b[0m \u001b[1;33m=\u001b[0m \u001b[0msteps\u001b[0m\u001b[1;33m[\u001b[0m\u001b[0mstep\u001b[0m\u001b[1;33m]\u001b[0m\u001b[1;33m\u001b[0m\u001b[0m\n\u001b[1;32m--> 448\u001b[1;33m                 \u001b[0mstep\u001b[0m \u001b[1;33m=\u001b[0m \u001b[0mfunc\u001b[0m\u001b[1;33m(\u001b[0m\u001b[1;33m)\u001b[0m\u001b[1;33m\u001b[0m\u001b[0m\n\u001b[0m\u001b[0;32m    449\u001b[0m             \u001b[1;32mexcept\u001b[0m \u001b[0mKeyError\u001b[0m\u001b[1;33m:\u001b[0m\u001b[1;33m\u001b[0m\u001b[0m\n\u001b[0;32m    450\u001b[0m                 \u001b[0mdone\u001b[0m \u001b[1;33m=\u001b[0m \u001b[1;32mTrue\u001b[0m\u001b[1;33m\u001b[0m\u001b[0m\n",
      "\u001b[1;32mc:\\users\\jkjh0\\appdata\\local\\programs\\python\\python35\\lib\\site-packages\\munkres.py\u001b[0m in \u001b[0;36m__step4\u001b[1;34m(self)\u001b[0m\n\u001b[0;32m    548\u001b[0m         \u001b[0mstar_col\u001b[0m \u001b[1;33m=\u001b[0m \u001b[1;33m-\u001b[0m\u001b[1;36m1\u001b[0m\u001b[1;33m\u001b[0m\u001b[0m\n\u001b[0;32m    549\u001b[0m         \u001b[1;32mwhile\u001b[0m \u001b[1;32mnot\u001b[0m \u001b[0mdone\u001b[0m\u001b[1;33m:\u001b[0m\u001b[1;33m\u001b[0m\u001b[0m\n\u001b[1;32m--> 550\u001b[1;33m             \u001b[1;33m(\u001b[0m\u001b[0mrow\u001b[0m\u001b[1;33m,\u001b[0m \u001b[0mcol\u001b[0m\u001b[1;33m)\u001b[0m \u001b[1;33m=\u001b[0m \u001b[0mself\u001b[0m\u001b[1;33m.\u001b[0m\u001b[0m__find_a_zero\u001b[0m\u001b[1;33m(\u001b[0m\u001b[0mrow\u001b[0m\u001b[1;33m,\u001b[0m \u001b[0mcol\u001b[0m\u001b[1;33m)\u001b[0m\u001b[1;33m\u001b[0m\u001b[0m\n\u001b[0m\u001b[0;32m    551\u001b[0m             \u001b[1;32mif\u001b[0m \u001b[0mrow\u001b[0m \u001b[1;33m<\u001b[0m \u001b[1;36m0\u001b[0m\u001b[1;33m:\u001b[0m\u001b[1;33m\u001b[0m\u001b[0m\n\u001b[0;32m    552\u001b[0m                 \u001b[0mdone\u001b[0m \u001b[1;33m=\u001b[0m \u001b[1;32mTrue\u001b[0m\u001b[1;33m\u001b[0m\u001b[0m\n",
      "\u001b[1;32mc:\\users\\jkjh0\\appdata\\local\\programs\\python\\python35\\lib\\site-packages\\munkres.py\u001b[0m in \u001b[0;36m__find_a_zero\u001b[1;34m(self, i0, j0)\u001b[0m\n\u001b[0;32m    650\u001b[0m             \u001b[0mj\u001b[0m \u001b[1;33m=\u001b[0m \u001b[0mj0\u001b[0m\u001b[1;33m\u001b[0m\u001b[0m\n\u001b[0;32m    651\u001b[0m             \u001b[1;32mwhile\u001b[0m \u001b[1;32mTrue\u001b[0m\u001b[1;33m:\u001b[0m\u001b[1;33m\u001b[0m\u001b[0m\n\u001b[1;32m--> 652\u001b[1;33m                 \u001b[1;32mif\u001b[0m \u001b[1;33m(\u001b[0m\u001b[0mself\u001b[0m\u001b[1;33m.\u001b[0m\u001b[0mC\u001b[0m\u001b[1;33m[\u001b[0m\u001b[0mi\u001b[0m\u001b[1;33m]\u001b[0m\u001b[1;33m[\u001b[0m\u001b[0mj\u001b[0m\u001b[1;33m]\u001b[0m \u001b[1;33m==\u001b[0m \u001b[1;36m0\u001b[0m\u001b[1;33m)\u001b[0m \u001b[1;32mand\u001b[0m\u001b[0;31m \u001b[0m\u001b[0;31m\\\u001b[0m\u001b[1;33m\u001b[0m\u001b[0m\n\u001b[0m\u001b[0;32m    653\u001b[0m                         \u001b[1;33m(\u001b[0m\u001b[1;32mnot\u001b[0m \u001b[0mself\u001b[0m\u001b[1;33m.\u001b[0m\u001b[0mrow_covered\u001b[0m\u001b[1;33m[\u001b[0m\u001b[0mi\u001b[0m\u001b[1;33m]\u001b[0m\u001b[1;33m)\u001b[0m \u001b[1;32mand\u001b[0m\u001b[0;31m \u001b[0m\u001b[0;31m\\\u001b[0m\u001b[1;33m\u001b[0m\u001b[0m\n\u001b[0;32m    654\u001b[0m                         \u001b[1;33m(\u001b[0m\u001b[1;32mnot\u001b[0m \u001b[0mself\u001b[0m\u001b[1;33m.\u001b[0m\u001b[0mcol_covered\u001b[0m\u001b[1;33m[\u001b[0m\u001b[0mj\u001b[0m\u001b[1;33m]\u001b[0m\u001b[1;33m)\u001b[0m\u001b[1;33m:\u001b[0m\u001b[1;33m\u001b[0m\u001b[0m\n",
      "\u001b[1;31mKeyboardInterrupt\u001b[0m: "
     ]
    }
   ],
   "source": [
    "for f in listdir(data_path):\n",
    "    gt, result = load_result(path.join(data_path,f), path.join(result_path ,f+\".txt\"))\n",
    "    groundtruth, hypotheses = result_to_json(gt, result)\n",
    "    mot(f, groundtruth, hypotheses, MOTA)\n",
    "    print(MOTA[f])"
   ]
  },
  {
   "cell_type": "code",
   "execution_count": 15,
   "metadata": {},
   "outputs": [
    {
     "data": {
      "text/plain": [
       "{'MOT17-02-DPM': (0.5757242023761848, 0.5722082007551219)}"
      ]
     },
     "execution_count": 15,
     "metadata": {},
     "output_type": "execute_result"
    }
   ],
   "source": [
    "MOTA"
   ]
  },
  {
   "cell_type": "code",
   "execution_count": 24,
   "metadata": {},
   "outputs": [
    {
     "name": "stdout",
     "output_type": "stream",
     "text": [
      "0.3562686693739573\n",
      "0.7742206158905386\n"
     ]
    }
   ],
   "source": [
    "sum_mota = 0\n",
    "sum_motp = 0\n",
    "for m in MOTA.keys():\n",
    "    sum_mota += MOTA[m][0]\n",
    "    sum_motp += MOTA[m][1]\n",
    "print(sum_mota / len(MOTA))\n",
    "print(sum_motp / len(MOTA))"
   ]
  },
  {
   "cell_type": "code",
   "execution_count": null,
   "metadata": {
    "collapsed": true
   },
   "outputs": [],
   "source": []
  }
 ],
 "metadata": {
  "kernelspec": {
   "display_name": "Python 3",
   "language": "python",
   "name": "python3"
  },
  "language_info": {
   "codemirror_mode": {
    "name": "ipython",
    "version": 3
   },
   "file_extension": ".py",
   "mimetype": "text/x-python",
   "name": "python",
   "nbconvert_exporter": "python",
   "pygments_lexer": "ipython3",
   "version": "3.5.3"
  }
 },
 "nbformat": 4,
 "nbformat_minor": 2
}
